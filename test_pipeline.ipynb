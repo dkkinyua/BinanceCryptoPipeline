{
 "cells": [
  {
   "cell_type": "markdown",
   "metadata": {},
   "source": [
    "## Test Pipeline for Binance Crypto Data\n",
    "\n",
    "This notebook contains test runs for extracting, transforming and loading cryptocurrency data from Binance API to a PostgreSQL database. The PostgreSQL table and schema to be specified will the used for testing purposes only and will be hosted on Aiven.\n"
   ]
  },
  {
   "cell_type": "code",
   "execution_count": 46,
   "metadata": {},
   "outputs": [],
   "source": [
    "import os\n",
    "import time\n",
    "import requests\n",
    "import pandas as pd\n",
    "from dotenv import load_dotenv\n",
    "from sqlalchemy import create_engine\n",
    "\n",
    "load_dotenv()\n",
    "DB_URI = os.getenv(\"DB_URI\")\n",
    "BASE_URL = 'https://api.binance.com'\n",
    "symbols = [\n",
    "    \"BTCUSDT\",   \n",
    "    \"ETHUSDT\",\n",
    "    \"BNBUSDT\",\n",
    "    \"XRPUSDT\",\n",
    "    \"SOLUSDT\",\n",
    "    \"ADAUSDT\",\n",
    "    \"DOGEUSDT\",\n",
    "    \"MATICUSDT\",\n",
    "    \"DOTUSDT\",\n",
    "    \"AVAXUSDT\"\n",
    "]"
   ]
  },
  {
   "cell_type": "code",
   "execution_count": 59,
   "metadata": {},
   "outputs": [
    {
     "name": "stdout",
     "output_type": "stream",
     "text": [
      "Data loaded successfully!\n"
     ]
    }
   ],
   "source": [
    "# Get depth in the order book\n",
    "def get_depth(BASE_URL, symbols, DB_URI): # add DB_URI when loading\n",
    "    coin_data = []\n",
    "    url = f\"{BASE_URL}/api/v3/depth\"\n",
    "    for s in symbols:\n",
    "        params = {'symbol': s, 'limit': 10}\n",
    "        response = requests.get(url, params=params)\n",
    "        if response.status_code == 200:\n",
    "            data = response.json()\n",
    "            for side, orders in [('bid', data['bids']), ('ask', data['asks'])]:\n",
    "                for price, qty in orders:\n",
    "                    coin_data.append({\n",
    "                        'update_id': data['lastUpdateId'],\n",
    "                        'symbol': s,\n",
    "                        'side': side,\n",
    "                        'price': float(price),\n",
    "                        'quantity': float(qty),\n",
    "                        'captured_at': int(time.time() * 1000)\n",
    "                    })\n",
    "        else:\n",
    "            print(f\"Error fetching order book: {response.status_code}, {response.text}\")\n",
    "    \n",
    "    df = pd.DataFrame(coin_data)\n",
    "    df[\"captured_at\"] = pd.to_datetime(df[\"captured_at\"], unit='ms')\n",
    "    try:\n",
    "        engine = create_engine(DB_URI)\n",
    "        df.to_sql('order_book', con=engine, schema='binance_test', index=False, if_exists='append')\n",
    "        print(\"Order book data loaded successfully!\")\n",
    "    except Exception as e:\n",
    "        print(f\"Error loading order book into db: {e}\")\n",
    "\n",
    "get_depth(BASE_URL, symbols, DB_URI)"
   ]
  },
  {
   "cell_type": "code",
   "execution_count": 34,
   "metadata": {},
   "outputs": [
    {
     "name": "stdout",
     "output_type": "stream",
     "text": [
      "Data loaded successfully!\n"
     ]
    }
   ],
   "source": [
    "# get recent trades from API\n",
    "def get_recent_trades(BASE_URL, symbols, DB_URI):\n",
    "    coin_data = []\n",
    "    url = f\"{BASE_URL}/api/v3/trades\"\n",
    "    for s in symbols:\n",
    "        params = {'symbol': s, 'limit': 10}\n",
    "        response = requests.get(url, params=params)\n",
    "        if response.status_code == 200:\n",
    "            data = response.json()\n",
    "            for d in data:\n",
    "                coin_data.append({\n",
    "                    'symbol': s,\n",
    "                    'trade_id': d[\"id\"],\n",
    "                    'price': d[\"price\"],\n",
    "                    'qty': d['qty'],\n",
    "                    'time': d['time']\n",
    "                })\n",
    "        else:\n",
    "            print(f\"Error fetching recent trades: {response.status_code}, {response.text}\")\n",
    "    df = pd.DataFrame(coin_data)\n",
    "    df[\"price\"] = df[\"price\"].astype(float)\n",
    "    df[\"qty\"] = df[\"qty\"].astype(float)\n",
    "    df['time'] = pd.to_datetime(df['time'], unit='ms')\n",
    "    try:\n",
    "        engine = create_engine(DB_URI)\n",
    "        df.to_sql('recent_trades', con=engine, schema='binance_test', index=False, if_exists='append')\n",
    "        print(\"Recent trades data loaded successfully!\")\n",
    "    except Exception as e:\n",
    "        print(f\"Loading error into databases: {e}\")\n",
    "    \n",
    "get_recent_trades(BASE_URL, symbols, DB_URI)"
   ]
  },
  {
   "cell_type": "code",
   "execution_count": 45,
   "metadata": {},
   "outputs": [
    {
     "name": "stdout",
     "output_type": "stream",
     "text": [
      "Data loaded successfully!\n"
     ]
    }
   ],
   "source": [
    "# get klines\n",
    "def get_klines(BASE_URL, symbols, DB_URI):\n",
    "    coin_data = []\n",
    "    url = f\"{BASE_URL}/api/v3/klines\"\n",
    "    for s in symbols:\n",
    "        params = {'symbol': s, 'limit': 10, 'interval': '30m'}\n",
    "        response = requests.get(url, params=params)\n",
    "        if response.status_code == 200:\n",
    "            data = response.json()\n",
    "            for d in data:\n",
    "                coin_data.append({\n",
    "                        'symbol': s,\n",
    "                        'open_time': d[0],\n",
    "                        'open_price': float(d[1]),\n",
    "                        'high_price': float(d[2]),\n",
    "                        'low_price': float(d[3]),\n",
    "                        'close_price': float(d[4]),\n",
    "                        'volume': float(d[5]),\n",
    "                        'close_time': d[6],\n",
    "                        'num_trades': d[8]\n",
    "                    })\n",
    "        else:\n",
    "            print(f\"Error fetching recent trades: {response.status_code}, {response.text}\")\n",
    "\n",
    "    df = pd.DataFrame(coin_data)\n",
    "    df['open_time'] = pd.to_datetime(df['open_time'], unit='ms')\n",
    "    df['close_time'] = pd.to_datetime(df['close_time'], unit='ms')\n",
    "    try:\n",
    "        engine = create_engine(DB_URI)\n",
    "        df.to_sql(\"klines\", con=engine, schema='binance_test', index=False, if_exists='append')\n",
    "        print(\"Klines data loaded successfully!\")\n",
    "    except Exception as e:\n",
    "        print(f\"Loading kline data into database: {e}\")\n",
    "\n",
    "get_klines(BASE_URL, symbols, DB_URI)"
   ]
  },
  {
   "cell_type": "code",
   "execution_count": 67,
   "metadata": {},
   "outputs": [
    {
     "name": "stdout",
     "output_type": "stream",
     "text": [
      "Daily Ticker data loaded successfully\n"
     ]
    }
   ],
   "source": [
    "# 24H ticker\n",
    "def get_daily_ticker(BASE_URL, symbols):\n",
    "    coin_data = []\n",
    "    url = f\"{BASE_URL}/api/v3/ticker/24hr\"\n",
    "    for s in symbols:\n",
    "        params = {'symbol': s, 'type': 'MINI'}\n",
    "        response = requests.get(url, params=params)\n",
    "        if response.status_code == 200:\n",
    "            data = response.json()\n",
    "            coin_data.append(data)\n",
    "        else:\n",
    "            print(f\"Error fetching recent trades: {response.status_code}, {response.text}\")\n",
    "    \n",
    "    df = pd.DataFrame(coin_data)\n",
    "    \n",
    "    df['openPrice'] = df['openPrice'].astype(float)\n",
    "    df['highPrice'] = df['highPrice'].astype(float)\n",
    "    df['lowPrice'] = df['lowPrice'].astype(float)\n",
    "    df['lastPrice'] = df['lastPrice'].astype(float)\n",
    "    df['volume'] = df['volume'].astype(float)\n",
    "\n",
    "    df['openTime'] = pd.to_datetime(df['openTime'], unit='ms')\n",
    "    df['closeTime'] = pd.to_datetime(df['closeTime'], unit='ms')\n",
    "\n",
    "\n",
    "    df = df.rename(columns={\n",
    "            'openPrice': 'open_price',\n",
    "            'highPrice': 'high_price',\n",
    "            'lowPrice': 'low_price',\n",
    "            'lastPrice': 'last_price',\n",
    "            'quoteVolume': 'quote_volume',\n",
    "            'openTime': 'open_time',\n",
    "            'closeTime': 'close_time',\n",
    "            'firstId': 'first_id',\n",
    "            'lastId': 'last_id'\n",
    "        })\n",
    "\n",
    "    try:\n",
    "        engine = create_engine(DB_URI)\n",
    "        df.to_sql('daily_ticker', con=engine, schema='binance_test', index=False, if_exists='append')\n",
    "        print(\"Daily Ticker data loaded successfully\")\n",
    "    except Exception as e:\n",
    "        print(f\"Loading daily ticker data into db: {e}\")\n",
    "    \n",
    "get_daily_ticker(BASE_URL, symbols)"
   ]
  },
  {
   "cell_type": "code",
   "execution_count": 53,
   "metadata": {},
   "outputs": [
    {
     "name": "stdout",
     "output_type": "stream",
     "text": [
      "Data loaded successfully!\n"
     ]
    }
   ],
   "source": [
    "# get latest prices\n",
    "def get_latest_prices(BASE_URL, symbols, DB_URI):\n",
    "    coin_data = []\n",
    "    url = f\"{BASE_URL}/api/v3/ticker/price\"\n",
    "    for s in symbols:\n",
    "        params = {'symbol': s}\n",
    "        response = requests.get(url, params=params)\n",
    "        if response.status_code == 200:\n",
    "            data = response.json()\n",
    "            coin_data.append({\n",
    "                'symbol': s,\n",
    "                'price': data[\"price\"],\n",
    "                'time': int(time.time() * 1000)\n",
    "            })\n",
    "        else:\n",
    "            print(f\"Error fetching recent trades: {response.status_code}, {response.text}\")\n",
    "    df = pd.DataFrame(coin_data)\n",
    "    df[\"price\"] = df[\"price\"].astype(float)\n",
    "    df[\"time\"] = pd.to_datetime(df[\"time\"], unit='ms')\n",
    "    try:\n",
    "        engine = create_engine(DB_URI)\n",
    "        df.to_sql('latest_prices', con=engine, schema='binance_test', index=False, if_exists='append')\n",
    "        print(\"Latest price data loaded successfully!\")\n",
    "    except Exception as e:\n",
    "        print(f\"Loading latest prices to db: {e}\")\n",
    "\n",
    "get_latest_prices(BASE_URL, symbols, DB_URI)"
   ]
  }
 ],
 "metadata": {
  "kernelspec": {
   "display_name": "myenv",
   "language": "python",
   "name": "python3"
  },
  "language_info": {
   "codemirror_mode": {
    "name": "ipython",
    "version": 3
   },
   "file_extension": ".py",
   "mimetype": "text/x-python",
   "name": "python",
   "nbconvert_exporter": "python",
   "pygments_lexer": "ipython3",
   "version": "3.10.12"
  }
 },
 "nbformat": 4,
 "nbformat_minor": 2
}
