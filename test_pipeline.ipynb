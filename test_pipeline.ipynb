{
 "cells": [
  {
   "cell_type": "markdown",
   "metadata": {},
   "source": [
    "## Test Pipeline for Binance Crypto Data\n",
    "\n",
    "This notebook contains test runs for extracting, transforming and loading cryptocurrency data from Binance API to a PostgreSQL database. The PostgreSQL table and schema to be specified will the used for testing purposes only and will be hosted on Aiven.\n"
   ]
  },
  {
   "cell_type": "code",
   "execution_count": 46,
   "metadata": {},
   "outputs": [],
   "source": [
    "import os\n",
    "import time\n",
    "import requests\n",
    "import pandas as pd\n",
    "from dotenv import load_dotenv\n",
    "from sqlalchemy import create_engine\n",
    "\n",
    "load_dotenv()\n",
    "DB_URI = os.getenv(\"DB_URI\")\n",
    "BASE_URL = 'https://api.binance.com'\n",
    "symbols = [\n",
    "    \"BTCUSDT\",   \n",
    "    \"ETHUSDT\",\n",
    "    \"BNBUSDT\",\n",
    "    \"XRPUSDT\",\n",
    "    \"SOLUSDT\",\n",
    "    \"ADAUSDT\",\n",
    "    \"DOGEUSDT\",\n",
    "    \"MATICUSDT\",\n",
    "    \"DOTUSDT\",\n",
    "    \"AVAXUSDT\"\n",
    "]"
   ]
  },
  {
   "cell_type": "code",
   "execution_count": null,
   "metadata": {},
   "outputs": [
    {
     "data": {
      "text/plain": [
       "update_id               int64\n",
       "symbol                 object\n",
       "side                   object\n",
       "price                 float64\n",
       "quantity              float64\n",
       "captured_at    datetime64[ns]\n",
       "dtype: object"
      ]
     },
     "execution_count": 58,
     "metadata": {},
     "output_type": "execute_result"
    }
   ],
   "source": [
    "# Get depth in the order book\n",
    "def get_depth(BASE_URL, symbols, DB_URI): # add DB_URI when loading\n",
    "    coin_data = []\n",
    "    url = f\"{BASE_URL}/api/v3/depth\"\n",
    "    for s in symbols:\n",
    "        params = {'symbol': s, 'limit': 10}\n",
    "        response = requests.get(url, params=params)\n",
    "        if response.status_code == 200:\n",
    "            data = response.json()\n",
    "            for side, orders in [('bid', data['bids']), ('ask', data['asks'])]:\n",
    "                for price, qty in orders:\n",
    "                    coin_data.append({\n",
    "                        'update_id': data['lastUpdateId'],\n",
    "                        'symbol': s,\n",
    "                        'side': side,\n",
    "                        'price': float(price),\n",
    "                        'quantity': float(qty),\n",
    "                        'captured_at': int(time.time() * 1000)\n",
    "                    })\n",
    "        else:\n",
    "            print(f\"Error fetching order book: {response.status_code}, {response.text}\")\n",
    "    \n",
    "    df = pd.DataFrame(coin_data)\n",
    "    df[\"captured_at\"] = pd.to_datetime(df[\"captured_at\"], unit='ms')\n",
    "    try:\n",
    "        engine = create_engine(DB_URI)\n",
    "        df.to_sql('order_book', con=engine, schema='binance_test', index=False, if_exists='append')\n",
    "        print(\"Data loaded successfully!\")\n",
    "    except Exception as e:\n",
    "        print(f\"Error loading order book into db: {e}\")\n",
    "\n",
    "get_depth(BASE_URL, symbols, DB_URI)"
   ]
  },
  {
   "cell_type": "code",
   "execution_count": 34,
   "metadata": {},
   "outputs": [
    {
     "name": "stdout",
     "output_type": "stream",
     "text": [
      "Data loaded successfully!\n"
     ]
    }
   ],
   "source": [
    "# get recent trades from API\n",
    "def get_recent_trades(BASE_URL, symbols, DB_URI):\n",
    "    coin_data = []\n",
    "    url = f\"{BASE_URL}/api/v3/trades\"\n",
    "    for s in symbols:\n",
    "        params = {'symbol': s, 'limit': 10}\n",
    "        response = requests.get(url, params=params)\n",
    "        if response.status_code == 200:\n",
    "            data = response.json()\n",
    "            for d in data:\n",
    "                coin_data.append({\n",
    "                    'symbol': s,\n",
    "                    'trade_id': d[\"id\"],\n",
    "                    'price': d[\"price\"],\n",
    "                    'qty': d['qty'],\n",
    "                    'time': d['time']\n",
    "                })\n",
    "        else:\n",
    "            print(f\"Error fetching recent trades: {response.status_code}, {response.text}\")\n",
    "    df = pd.DataFrame(coin_data)\n",
    "    df[\"price\"] = df[\"price\"].astype(float)\n",
    "    df[\"qty\"] = df[\"qty\"].astype(float)\n",
    "    df['time'] = pd.to_datetime(df['time'], unit='ms')\n",
    "    try:\n",
    "        engine = create_engine(DB_URI)\n",
    "        df.to_sql('recent_trades', con=engine, schema='binance_test', index=False, if_exists='append')\n",
    "        print(\"Data loaded successfully!\")\n",
    "    except Exception as e:\n",
    "        print(f\"Loading error into databases: {e}\")\n",
    "    \n",
    "get_recent_trades(BASE_URL, symbols, DB_URI)"
   ]
  },
  {
   "cell_type": "code",
   "execution_count": 45,
   "metadata": {},
   "outputs": [
    {
     "name": "stdout",
     "output_type": "stream",
     "text": [
      "Data loaded successfully!\n"
     ]
    }
   ],
   "source": [
    "# get klines\n",
    "def get_klines(BASE_URL, symbols, DB_URI):\n",
    "    coin_data = []\n",
    "    url = f\"{BASE_URL}/api/v3/klines\"\n",
    "    for s in symbols:\n",
    "        params = {'symbol': s, 'limit': 10, 'interval': '30m'}\n",
    "        response = requests.get(url, params=params)\n",
    "        if response.status_code == 200:\n",
    "            data = response.json()\n",
    "            for d in data:\n",
    "                coin_data.append({\n",
    "                        'symbol': s,\n",
    "                        'open_time': d[0],\n",
    "                        'open_price': float(d[1]),\n",
    "                        'high_price': float(d[2]),\n",
    "                        'low_price': float(d[3]),\n",
    "                        'close_price': float(d[4]),\n",
    "                        'volume': float(d[5]),\n",
    "                        'close_time': d[6],\n",
    "                        'num_trades': d[8]\n",
    "                    })\n",
    "        else:\n",
    "            print(f\"Error fetching recent trades: {response.status_code}, {response.text}\")\n",
    "\n",
    "    df = pd.DataFrame(coin_data)\n",
    "    df['open_time'] = pd.to_datetime(df['open_time'], unit='ms')\n",
    "    df['close_time'] = pd.to_datetime(df['close_time'], unit='ms')\n",
    "    try:\n",
    "        engine = create_engine(DB_URI)\n",
    "        df.to_sql(\"klines\", con=engine, schema='binance_test', index=False, if_exists='append')\n",
    "        print(\"Data loaded successfully!\")\n",
    "    except Exception as e:\n",
    "        print(f\"Loading kline data into database: {e}\")\n",
    "\n",
    "get_klines(BASE_URL, symbols, DB_URI)"
   ]
  },
  {
   "cell_type": "code",
   "execution_count": 11,
   "metadata": {},
   "outputs": [
    {
     "name": "stdout",
     "output_type": "stream",
     "text": [
      "{'symbol': 'BTCUSDT', 'openPrice': '102288.89000000', 'highPrice': '106074.20000000', 'lowPrice': '99613.33000000', 'lastPrice': '105029.19000000', 'volume': '27159.99814000', 'quoteVolume': '2820413769.36626970', 'openTime': 1750687085013, 'closeTime': 1750773485013, 'firstId': 5037656134, 'lastId': 5042722947, 'count': 5066814}\n",
      "{'symbol': 'ETHUSDT', 'openPrice': '2291.00000000', 'highPrice': '2449.14000000', 'lowPrice': '2188.00000000', 'lastPrice': '2420.52000000', 'volume': '810189.56280000', 'quoteVolume': '1905060216.95838500', 'openTime': 1750687086012, 'closeTime': 1750773486012, 'firstId': 2560049745, 'lastId': 2564766471, 'count': 4716727}\n",
      "{'symbol': 'BNBUSDT', 'openPrice': '626.50000000', 'highPrice': '642.79000000', 'lowPrice': '617.02000000', 'lastPrice': '640.02000000', 'volume': '227951.94200000', 'quoteVolume': '144276634.63087000', 'openTime': 1750687086084, 'closeTime': 1750773486084, 'firstId': 1082596182, 'lastId': 1083405841, 'count': 809660}\n",
      "{'symbol': 'XRPUSDT', 'openPrice': '2.02430000', 'highPrice': '2.21060000', 'lowPrice': '1.96150000', 'lastPrice': '2.17270000', 'volume': '197588181.50000000', 'quoteVolume': '417578386.48055000', 'openTime': 1750687086289, 'closeTime': 1750773486289, 'firstId': 1193125641, 'lastId': 1194988289, 'count': 1862649}\n",
      "{'symbol': 'SOLUSDT', 'openPrice': '136.54000000', 'highPrice': '146.92000000', 'lowPrice': '130.68000000', 'lastPrice': '143.88000000', 'volume': '4632414.76700000', 'quoteVolume': '652062795.71224000', 'openTime': 1750687086767, 'closeTime': 1750773486767, 'firstId': 1356488191, 'lastId': 1359505230, 'count': 3017040}\n",
      "{'symbol': 'ADAUSDT', 'openPrice': '0.55220000', 'highPrice': '0.59360000', 'lowPrice': '0.52890000', 'lastPrice': '0.58130000', 'volume': '257587517.60000000', 'quoteVolume': '146417203.27609000', 'openTime': 1750687087164, 'closeTime': 1750773487164, 'firstId': 672382589, 'lastId': 672855772, 'count': 473184}\n",
      "{'symbol': 'DOGEUSDT', 'openPrice': '0.15520000', 'highPrice': '0.16767000', 'lowPrice': '0.14861000', 'lastPrice': '0.16255000', 'volume': '1262443487.00000000', 'quoteVolume': '202708099.28772000', 'openTime': 1750687087477, 'closeTime': 1750773487477, 'firstId': 1151442489, 'lastId': 1152417294, 'count': 974806}\n",
      "{'symbol': 'MATICUSDT', 'openPrice': '0.00000000', 'highPrice': '0.00000000', 'lowPrice': '0.00000000', 'lastPrice': '0.00000000', 'volume': '0.00000000', 'quoteVolume': '0.00000000', 'openTime': 1749108823330, 'closeTime': 1749195223330, 'firstId': -1, 'lastId': -1, 'count': 0}\n",
      "{'symbol': 'DOTUSDT', 'openPrice': '3.27600000', 'highPrice': '3.48500000', 'lowPrice': '3.11100000', 'lastPrice': '3.43300000', 'volume': '8575985.29000000', 'quoteVolume': '28670856.54356000', 'openTime': 1750687087918, 'closeTime': 1750773487918, 'firstId': 409133861, 'lastId': 409230285, 'count': 96425}\n",
      "{'symbol': 'AVAXUSDT', 'openPrice': '17.10000000', 'highPrice': '18.49000000', 'lowPrice': '16.26000000', 'lastPrice': '18.05000000', 'volume': '3879195.93000000', 'quoteVolume': '68287370.22760000', 'openTime': 1750687088730, 'closeTime': 1750773488730, 'firstId': 378379792, 'lastId': 378652077, 'count': 272286}\n"
     ]
    }
   ],
   "source": [
    "# 24H ticker\n",
    "def get_daily_ticker(BASE_URL, symbols):\n",
    "    url = f\"{BASE_URL}/api/v3/ticker/24hr\"\n",
    "    for s in symbols:\n",
    "        params = {'symbol': s, 'type': 'MINI'}\n",
    "        response = requests.get(url, params=params)\n",
    "        if response.status_code == 200:\n",
    "            print(response.json())\n",
    "        else:\n",
    "            print(f\"Error fetching recent trades: {response.status_code}, {response.text}\")\n",
    "\n",
    "get_daily_ticker(BASE_URL, symbols)"
   ]
  },
  {
   "cell_type": "code",
   "execution_count": 53,
   "metadata": {},
   "outputs": [
    {
     "name": "stdout",
     "output_type": "stream",
     "text": [
      "Data loaded successfully!\n"
     ]
    }
   ],
   "source": [
    "# get latest prices\n",
    "def get_latest_prices(BASE_URL, symbols, DB_URI):\n",
    "    coin_data = []\n",
    "    url = f\"{BASE_URL}/api/v3/ticker/price\"\n",
    "    for s in symbols:\n",
    "        params = {'symbol': s}\n",
    "        response = requests.get(url, params=params)\n",
    "        if response.status_code == 200:\n",
    "            data = response.json()\n",
    "            coin_data.append({\n",
    "                'symbol': s,\n",
    "                'price': data[\"price\"],\n",
    "                'time': int(time.time() * 1000)\n",
    "            })\n",
    "        else:\n",
    "            print(f\"Error fetching recent trades: {response.status_code}, {response.text}\")\n",
    "    df = pd.DataFrame(coin_data)\n",
    "    df[\"price\"] = df[\"price\"].astype(float)\n",
    "    df[\"time\"] = pd.to_datetime(df[\"time\"], unit='ms')\n",
    "    try:\n",
    "        engine = create_engine(DB_URI)\n",
    "        df.to_sql('latest_prices', con=engine, schema='binance_test', index=False, if_exists='append')\n",
    "        print(\"Data loaded successfully!\")\n",
    "    except Exception as e:\n",
    "        print(f\"Loading latest prices to db: {e}\")\n",
    "\n",
    "get_latest_prices(BASE_URL, symbols, DB_URI)"
   ]
  }
 ],
 "metadata": {
  "kernelspec": {
   "display_name": "myenv",
   "language": "python",
   "name": "python3"
  },
  "language_info": {
   "codemirror_mode": {
    "name": "ipython",
    "version": 3
   },
   "file_extension": ".py",
   "mimetype": "text/x-python",
   "name": "python",
   "nbconvert_exporter": "python",
   "pygments_lexer": "ipython3",
   "version": "3.10.12"
  }
 },
 "nbformat": 4,
 "nbformat_minor": 2
}
